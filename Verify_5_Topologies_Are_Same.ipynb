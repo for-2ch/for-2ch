{
 "cells": [
  {
   "cell_type": "code",
   "execution_count": 28,
   "metadata": {},
   "outputs": [
    {
     "data": {
      "text/plain": [
       "True"
      ]
     },
     "execution_count": 28,
     "metadata": {},
     "output_type": "execute_result"
    }
   ],
   "source": [
    "import pickle\n",
    "with open('topology_from_open_sets.dump', 'rb') as f:\n",
    "    t1 = pickle.load(f)\n",
    "with open('topology_from_collections_of_neighborhood_systems.dump', 'rb') as f:\n",
    "    t2 = pickle.load(f)\n",
    "\n",
    "import collections\n",
    "def are_same_collections(seq1, seq2):\n",
    "    if isinstance(seq1, collections.Sequence):\n",
    "        if len(seq1) != len(seq2):\n",
    "            return False\n",
    "        s = set()\n",
    "        for i in range(len(seq1)):\n",
    "            flag = False\n",
    "            for j in range(len(seq2)):\n",
    "                if j in s:\n",
    "                    continue\n",
    "                if are_same_collections(seq1[i], seq2[j]):\n",
    "                    s.add(j)\n",
    "                    flag = True\n",
    "                    break\n",
    "            if not(flag):\n",
    "                return False\n",
    "        return True\n",
    "    elif isinstance(seq1, dict):\n",
    "        for k in seq1.keys():\n",
    "            if not(are_same_collections(seq1[k], seq2[k])):\n",
    "                return False\n",
    "        return True\n",
    "    else:\n",
    "        return seq1 == seq2\n",
    "\n",
    "are_same_collections(t1, t2)"
   ]
  }
 ],
 "metadata": {
  "kernelspec": {
   "display_name": "Python 3",
   "language": "python",
   "name": "python3"
  },
  "language_info": {
   "codemirror_mode": {
    "name": "ipython",
    "version": 3
   },
   "file_extension": ".py",
   "mimetype": "text/x-python",
   "name": "python",
   "nbconvert_exporter": "python",
   "pygments_lexer": "ipython3",
   "version": "3.6.1"
  }
 },
 "nbformat": 4,
 "nbformat_minor": 2
}
