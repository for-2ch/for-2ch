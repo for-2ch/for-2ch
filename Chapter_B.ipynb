{
 "cells": [
  {
   "cell_type": "markdown",
   "metadata": {},
   "source": [
    "## p.23 B11"
   ]
  },
  {
   "cell_type": "code",
   "execution_count": 1,
   "metadata": {
    "collapsed": true
   },
   "outputs": [],
   "source": [
    "import itertools"
   ]
  },
  {
   "cell_type": "code",
   "execution_count": 19,
   "metadata": {
    "collapsed": false
   },
   "outputs": [
    {
     "name": "stdout",
     "output_type": "stream",
     "text": [
      "(0, 0, 0)\n",
      "(0, 0, 1)\n",
      "(0, 1, 0)\n",
      "(0, 1, 1)\n",
      "(1, 0, 0)\n",
      "(1, 0, 1)\n",
      "(1, 1, 0)\n",
      "(1, 1, 1)\n"
     ]
    }
   ],
   "source": [
    "bit = (0, 1)\n",
    "for i in itertools.product(bit, repeat=3):\n",
    "    print(i)"
   ]
  },
  {
   "cell_type": "code",
   "execution_count": 30,
   "metadata": {
    "collapsed": false
   },
   "outputs": [],
   "source": [
    "# 点の数が n であるような異なる無向グラフの数を出力する。\n",
    "def num_of_graphs_with_n_vertices(n):\n",
    "    S = set()\n",
    "    num_of_graphs = 0\n",
    "    bit = (0, 1)\n",
    "    m = (n - 1)*n//2\n",
    "    A = [[0 for i in range(n)] for j in range(n)]\n",
    "    for bit_pat in itertools.product(bit, repeat = m):\n",
    "        if bit_pat in S: continue\n",
    "        num_of_graphs += 1\n",
    "        k = 0\n",
    "        for j in range(1, n):\n",
    "            for i in range(j):\n",
    "                A[i][j] = bit_pat[k]\n",
    "                A[j][i] = bit_pat[k]\n",
    "                k += 1\n",
    "        for index in itertools.permutations(range(n)):\n",
    "            S.add(tuple([A[index[i]][index[j]] for j in range(1, n) for i in range(j)]))\n",
    "    return num_of_graphs"
   ]
  },
  {
   "cell_type": "code",
   "execution_count": 31,
   "metadata": {
    "collapsed": false
   },
   "outputs": [],
   "source": [
    "def B11():\n",
    "    n = 5\n",
    "    S = set()\n",
    "    num_of_graphs = 0\n",
    "    bit = (0, 1)\n",
    "    m = (n - 1)*n//2\n",
    "    A = [[0 for i in range(n)] for j in range(n)]\n",
    "    for bit_pat in itertools.product(bit, repeat = m):\n",
    "        if sum(bit_pat) > 5 or bit_pat in S: continue\n",
    "        num_of_graphs += 1\n",
    "        k = 0\n",
    "        for j in range(1, n):\n",
    "            for i in range(j):\n",
    "                A[i][j] = bit_pat[k]\n",
    "                A[j][i] = bit_pat[k]\n",
    "                k += 1\n",
    "        for index in itertools.permutations(range(n)):\n",
    "            S.add(tuple([A[index[i]][index[j]] for j in range(1, n) for i in range(j)]))\n",
    "    print(num_of_graphs)"
   ]
  },
  {
   "cell_type": "code",
   "execution_count": 34,
   "metadata": {
    "collapsed": false
   },
   "outputs": [
    {
     "name": "stdout",
     "output_type": "stream",
     "text": [
      "20\n"
     ]
    }
   ],
   "source": [
    "B11()"
   ]
  },
  {
   "cell_type": "markdown",
   "metadata": {},
   "source": [
    "## p.23 B12"
   ]
  },
  {
   "cell_type": "code",
   "execution_count": 33,
   "metadata": {
    "collapsed": false
   },
   "outputs": [],
   "source": [
    "def B12():\n",
    "    print(num_of_graphs_with_n_vertices(5))"
   ]
  },
  {
   "cell_type": "code",
   "execution_count": 35,
   "metadata": {
    "collapsed": false
   },
   "outputs": [
    {
     "name": "stdout",
     "output_type": "stream",
     "text": [
      "34\n"
     ]
    }
   ],
   "source": [
    "B12()"
   ]
  },
  {
   "cell_type": "markdown",
   "metadata": {},
   "source": [
    " ## p.23 B13"
   ]
  },
  {
   "cell_type": "code",
   "execution_count": 38,
   "metadata": {
    "collapsed": true
   },
   "outputs": [],
   "source": [
    "def num_of_two_regular_graphs(n):\n",
    "    S = set()\n",
    "    num_of_graphs = 0\n",
    "    bit = (0, 1)\n",
    "    m = (n - 1)*n//2\n",
    "    A = [[0 for i in range(n)] for j in range(n)]\n",
    "    for bit_pat in itertools.product(bit, repeat = m):\n",
    "        if bit_pat in S: continue\n",
    "        k = 0\n",
    "        for j in range(1, n):\n",
    "            for i in range(j):\n",
    "                A[i][j] = bit_pat[k]\n",
    "                A[j][i] = bit_pat[k]\n",
    "                k += 1\n",
    "        flag = 1\n",
    "        for i in range(n):\n",
    "            if sum(A[i]) != 2:\n",
    "                flag = 0\n",
    "                break\n",
    "        num_of_graphs += flag\n",
    "        for index in itertools.permutations(range(n)):\n",
    "            S.add(tuple([A[index[i]][index[j]] for j in range(1, n) for i in range(j)]))\n",
    "    return num_of_graphs"
   ]
  },
  {
   "cell_type": "markdown",
   "metadata": {},
   "source": [
    "$n = 11$ だと計算時間が長すぎて計算できないため、 $n = 6$ で計算してみる。 $6 = 3 + 3 = 6$ であるから、答えは $2$ であると思うが実際にそうなるか確かめる。"
   ]
  },
  {
   "cell_type": "code",
   "execution_count": 40,
   "metadata": {
    "collapsed": false
   },
   "outputs": [
    {
     "name": "stdout",
     "output_type": "stream",
     "text": [
      "2\n"
     ]
    }
   ],
   "source": [
    "print(num_of_two_regular_graphs(6))"
   ]
  },
  {
   "cell_type": "markdown",
   "metadata": {},
   "source": [
    "$n = 11$ の場合には、 $11 = 3 + 3 + 5 = 3 + 4 + 4 = 3 + 8 = 4 + 7 = 5 + 6 = 11$ だから、答えは $6$ であると思われる。\n",
    "    "
   ]
  },
  {
   "cell_type": "markdown",
   "metadata": {},
   "source": [
    "## p.23 B14"
   ]
  },
  {
   "cell_type": "markdown",
   "metadata": {},
   "source": [
    "補グラフを考えればよい。 $K_8$ の各点の次数は $7$ であるから、 $6$ - regular グラフの補グラフは、 $1$ - regular グラフである。明らかに異なる $1$ - regular グラフの数は $1$ である。"
   ]
  },
  {
   "cell_type": "markdown",
   "metadata": {},
   "source": [
    "## p.23 B15\n",
    "\n",
    "補グラフを考えればよい。 $K_7$ の各点の次数は $6$ であるから、 $4$ - regular グラフの補グラフは、 $2$ - regular グラフである。 $7 = 3 + 4 = 7$ であるから異なる $2$ - regular グラフの数は $2$ である。"
   ]
  },
  {
   "cell_type": "code",
   "execution_count": 48,
   "metadata": {
    "collapsed": false
   },
   "outputs": [],
   "source": [
    "def num_of_4_regular_graphs(n):\n",
    "    S = set()\n",
    "    num_of_graphs = 0\n",
    "    bit = (0, 1)\n",
    "    m = (n - 1)*n//2\n",
    "    A = [[0 for i in range(n)] for j in range(n)]\n",
    "    for bit_pat in itertools.product(bit, repeat = m):\n",
    "        if bit_pat in S: continue\n",
    "        k = 0\n",
    "        for j in range(1, n):\n",
    "            for i in range(j):\n",
    "                A[i][j] = bit_pat[k]\n",
    "                A[j][i] = bit_pat[k]\n",
    "                k += 1\n",
    "        flag = 1\n",
    "        for i in range(n):\n",
    "            if sum(A[i]) != 4:\n",
    "                flag = 0\n",
    "                break\n",
    "        num_of_graphs += flag\n",
    "        for index in itertools.permutations(range(n)):\n",
    "            S.add(tuple([A[index[i]][index[j]] for j in range(1, n) for i in range(j)]))\n",
    "    return num_of_graphs"
   ]
  },
  {
   "cell_type": "code",
   "execution_count": 49,
   "metadata": {
    "collapsed": false
   },
   "outputs": [
    {
     "name": "stdout",
     "output_type": "stream",
     "text": [
      "2\n"
     ]
    }
   ],
   "source": [
    "print(num_of_4_regular_graphs(7))"
   ]
  },
  {
   "cell_type": "markdown",
   "metadata": {},
   "source": [
    "## p.23 B16\n",
    "\n",
    "点にラベルを付けて隣接行列が等しくなることを確認すればよい。"
   ]
  },
  {
   "cell_type": "markdown",
   "metadata": {},
   "source": [
    "## p.24 B17\n",
    "\n",
    "次数が $4$ である点の数は、左右のグラフとも $3$ である。左のグラフではそれらのどの2点の間にも辺があるが、右のグラフではそうではない。"
   ]
  },
  {
   "cell_type": "markdown",
   "metadata": {},
   "source": [
    "## p.24 B18\n",
    "\n",
    "左端と右端のグラフは明らかに立方体の頂点を点、辺を辺としたグラフと同形である。真ん中のグラフでは長さ $4$ のサイクルの個数は $4$ であるが、左端と右端のグラフでは長さ $4$ のサイクルの個数は $6$ である。以上から、左端と右端のグラフは同形であり、真ん中のグラフはそれらと非同形である。"
   ]
  },
  {
   "cell_type": "markdown",
   "metadata": {},
   "source": [
    "## p.24 B19\n",
    "\n",
    "1. (2), (5), (6), (7) は同形。\n",
    "2. (1), (3) は同形。(1), (2), (4) は互いに非同形。"
   ]
  },
  {
   "cell_type": "markdown",
   "metadata": {},
   "source": [
    "## p.24 B20\n",
    "\n",
    "同形"
   ]
  },
  {
   "cell_type": "markdown",
   "metadata": {},
   "source": [
    "## p.24 B21\n",
    "\n",
    "![問題B21](b21.png \"問題B21\")"
   ]
  },
  {
   "cell_type": "code",
   "execution_count": 1,
   "metadata": {
    "collapsed": true
   },
   "outputs": [],
   "source": [
    "import itertools"
   ]
  },
  {
   "cell_type": "code",
   "execution_count": 3,
   "metadata": {
    "collapsed": true
   },
   "outputs": [],
   "source": [
    "def is_isomorphic(A, B):\n",
    "    n = len(A)\n",
    "    for index in itertools.permutations(range(n)):\n",
    "        is_isomorphic = True\n",
    "        for i, j in itertools.product(range(n), repeat = 2):\n",
    "            if A[i][j] != B[index[i]][index[j]]:\n",
    "                is_isomorphic = False\n",
    "                break\n",
    "        if is_isomorphic == True:\n",
    "            return True\n",
    "    return False"
   ]
  },
  {
   "cell_type": "code",
   "execution_count": 7,
   "metadata": {
    "collapsed": false
   },
   "outputs": [],
   "source": [
    "setA = set()\n",
    "A = [[0 for i in range(8)] for j in range(8)]\n",
    "for i in range(8):\n",
    "    setA.add((i, (i+1)%8))\n",
    "    setA.add(((i+1)%8, i))\n",
    "for i in range(4):\n",
    "    setA.add((i, i+4))\n",
    "    setA.add((i+4, i))\n",
    "for i, j in itertools.product(range(8), repeat = 2):\n",
    "    if (i, j) in setA:\n",
    "        A[i][j] = 1\n",
    "    else:\n",
    "        A[i][j] = 0"
   ]
  },
  {
   "cell_type": "code",
   "execution_count": 16,
   "metadata": {
    "collapsed": true
   },
   "outputs": [],
   "source": [
    "setB = set()\n",
    "B = [[0 for i in range(8)] for j in range(8)]\n",
    "for i in range(4):\n",
    "    setB.add((i, (i+1)%4))\n",
    "    setB.add(((i+1)%4, i))\n",
    "for i in range(4):\n",
    "    setB.add((i, i+4))\n",
    "    setB.add((i+4, i))\n",
    "setB.add((4, 5))\n",
    "setB.add((5, 4))\n",
    "setB.add((6, 7))\n",
    "setB.add((7, 6))\n",
    "setB.add((4, 6))\n",
    "setB.add((6, 4))\n",
    "setB.add((5, 7))\n",
    "setB.add((7, 5))\n",
    "for i, j in itertools.product(range(8), repeat = 2):\n",
    "    if (i, j) in setB:\n",
    "        B[i][j] = 1\n",
    "    else:\n",
    "        B[i][j] = 0"
   ]
  },
  {
   "cell_type": "code",
   "execution_count": 18,
   "metadata": {
    "collapsed": false
   },
   "outputs": [],
   "source": [
    "setC = set()\n",
    "C = [[0 for i in range(8)] for j in range(8)]\n",
    "setC.add((0, 4))\n",
    "setC.add((0, 5))\n",
    "setC.add((0, 7))\n",
    "setC.add((1, 2))\n",
    "setC.add((1, 4))\n",
    "setC.add((1, 5))\n",
    "setC.add((2, 6))\n",
    "setC.add((2, 7))\n",
    "setC.add((3, 4))\n",
    "setC.add((3, 6))\n",
    "setC.add((3, 7))\n",
    "setC.add((5, 6))\n",
    "\n",
    "S = set()\n",
    "for (i, j) in setC:\n",
    "    S.add((j, i))\n",
    "\n",
    "setC = setC | S\n",
    "\n",
    "for i, j in itertools.product(range(8), repeat = 2):\n",
    "    if (i, j) in setC:\n",
    "        C[i][j] = 1\n",
    "    else:\n",
    "        C[i][j] = 0"
   ]
  },
  {
   "cell_type": "code",
   "execution_count": 19,
   "metadata": {
    "collapsed": false
   },
   "outputs": [
    {
     "name": "stdout",
     "output_type": "stream",
     "text": [
      "True\n",
      "True\n",
      "True\n"
     ]
    }
   ],
   "source": [
    "print(is_isomorphic(A, B))\n",
    "print(is_isomorphic(B, C))\n",
    "print(is_isomorphic(C, A))"
   ]
  }
 ],
 "metadata": {
  "anaconda-cloud": {
   "environment": null,
   "summary": "Chapter B corrected",
   "url": "https://anaconda.org/for_2ch/chapter-b"
  },
  "kernelspec": {
   "display_name": "Python [Root]",
   "language": "python",
   "name": "Python [Root]"
  },
  "language_info": {
   "codemirror_mode": {
    "name": "ipython",
    "version": 3
   },
   "file_extension": ".py",
   "mimetype": "text/x-python",
   "name": "python",
   "nbconvert_exporter": "python",
   "pygments_lexer": "ipython3",
   "version": "3.5.1"
  }
 },
 "nbformat": 4,
 "nbformat_minor": 0
}
