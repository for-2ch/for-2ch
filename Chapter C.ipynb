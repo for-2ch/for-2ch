{
 "cells": [
  {
   "cell_type": "markdown",
   "metadata": {},
   "source": [
    "## p.25 C1\n",
    "\n",
    "右から2つ目のグラフ以外はすべて2部グラフである。\n",
    "\n",
    "![問題C1](c01.png \"問題C1\")"
   ]
  },
  {
   "cell_type": "markdown",
   "metadata": {},
   "source": [
    "## p.26 C2\n",
    "\n",
    "$n$ が偶数であればよい。"
   ]
  },
  {
   "cell_type": "markdown",
   "metadata": {},
   "source": [
    "## p.26 C3\n",
    "\n",
    "$H$ が2部グラフでないとすると、 $G$ も2部グラフでないことになってしまう。"
   ]
  },
  {
   "cell_type": "markdown",
   "metadata": {},
   "source": [
    "## p.26 C4\n",
    "\n",
    "$m \\cdot n$ 個の辺がある。次数 $n$ の点が $m$ 個、次数 $m$ の点が $n$ 個存在する。"
   ]
  },
  {
   "cell_type": "markdown",
   "metadata": {},
   "source": [
    "## p.26 C5\n",
    "\n",
    "![問題C5](c05.png \"問題C5\")\n",
    "\n",
    "赤い点の次数の和は、 $4 + 3 + 4 + 3 + 4 = 18$ である。青い点の次数の和は、 $3 + 3 + 3 + 3 + 3 + 3 = 18$ である。辺の数は、 $18$ である。各辺についてその両端点の色が、一方は赤、他方は青であるから。"
   ]
  },
  {
   "cell_type": "markdown",
   "metadata": {},
   "source": [
    "## p.26 C6\n",
    "\n",
    "$X$ に属する点の次数の和と $Y$ に属する点の次数の和と2部グラフの辺の数はすべて等しい。"
   ]
  },
  {
   "cell_type": "markdown",
   "metadata": {},
   "source": [
    "## p.26 C7\n",
    "$15$ は奇数だから。"
   ]
  },
  {
   "cell_type": "markdown",
   "metadata": {},
   "source": [
    "## p.26 C8\n",
    "\n",
    "$4 + 3 \\cdot 6 + 2 \\cdot 2 = 26$, $26 \\div 2 = 13$.\n",
    "\n",
    "![問題C8](c08.png \"問題C8\")"
   ]
  },
  {
   "cell_type": "markdown",
   "metadata": {},
   "source": [
    "## p.26 C9\n",
    "\n",
    "$6 \\times 3 + 4 \\times 10 = 58$, $58 \\div 2 = 29$ であるが、 $(6, 6, 6, 4, 4, 4, 4, 4, 4, 4, 4, 4, 4)$ を見れば分かるように、次数はすべて偶数であるから次数の和が $29$ になるような点の部分集合は存在しない。"
   ]
  },
  {
   "cell_type": "markdown",
   "metadata": {},
   "source": [
    "## p.27 C10\n",
    "\n",
    "![問題C10](c10_1.png \"問題C10\")\n",
    "![問題C10](c10_2.png \"問題C10\")"
   ]
  },
  {
   "cell_type": "markdown",
   "metadata": {},
   "source": [
    "## p.27 C11\n",
    "\n",
    "2つの $1$ が同じ行に位置することも、同じ列に位置することもない。"
   ]
  },
  {
   "cell_type": "markdown",
   "metadata": {},
   "source": [
    "## p.27 C12\n",
    "\n",
    "![問題C12](c12_1.png \"問題C12\")\n",
    "![問題C12](c12_2.png \"問題C12\")"
   ]
  },
  {
   "cell_type": "markdown",
   "metadata": {},
   "source": [
    "## p.27 C13\n",
    "\n",
    "奇数個の点を含むサイクルは2部グラフではなく、2部グラフの部分グラフもまた2部グラフであるから。"
   ]
  },
  {
   "cell_type": "markdown",
   "metadata": {},
   "source": [
    "## p.28 C14\n",
    "\n",
    "$ABCDEFCGBHCIJA$\n",
    "\n",
    "- $BCDEFCGB$\n",
    "- $CIJABC$\n",
    "\n",
    "$CIJABC$ はサイクルである。"
   ]
  },
  {
   "cell_type": "markdown",
   "metadata": {},
   "source": [
    "## p.28 C15\n",
    "\n",
    "$V_1 V_2 \\cdots V_n V_1$ がサイクルでないと仮定する。 $V_i = V_j$ かつ $i < j$ となるような $i, j$ が存在する。 $V_i \\cdots V_j$ の長さが奇数ならば $V_i \\cdots V_j$ は長さが $n$ 未満の奇数長の閉路である。 $V_i \\cdots V_j$ の長さが偶数ならば $V_1 \\cdots V_i, V_{j+1}, \\cdots, V_1$ は 長さが $n$ 未満の奇数長の閉路である。"
   ]
  },
  {
   "cell_type": "markdown",
   "metadata": {},
   "source": [
    "## p.28 C16\n",
    "\n",
    "グラフが奇数長の閉路を含むと仮定する。この閉路に含まれる奇数長の閉路の中で長さが最小の閉路を考える。C15により、長さが最小の閉路は、サイクルでなければならない。"
   ]
  },
  {
   "cell_type": "markdown",
   "metadata": {},
   "source": [
    "## p.28 C17\n",
    "\n",
    "自明。"
   ]
  },
  {
   "cell_type": "markdown",
   "metadata": {},
   "source": [
    "## p.28 C18\n",
    "\n",
    "2色で彩色できない。意図不明の問題。"
   ]
  },
  {
   "cell_type": "markdown",
   "metadata": {},
   "source": [
    "## p.28 C19\n",
    "\n",
    "- $A$ から $V$ へ行くときには、長さが奇数のパスを通っていき、 $V$ から $A$ に戻るときには、 $A$ から $V$ への長さが偶数のパスを逆向きに辿っていけばよい。\n",
    "- C16により問題のグラフには奇数長のサイクルが存在することになるが、これは矛盾である。"
   ]
  },
  {
   "cell_type": "markdown",
   "metadata": {},
   "source": [
    "## p.28 C20\n",
    "\n",
    "$G$ の任意の連結成分を考える。C18の上に書かれた方法で各点を彩色すれば、C19によりその彩色は一意的である。両端点の色が同色であるような辺が存在しないことは、C19より明らかである。"
   ]
  },
  {
   "cell_type": "markdown",
   "metadata": {},
   "source": [
    "## p.29 C21\n",
    "\n",
    "真ん中のグラフのみ2部グラフである。\n",
    "\n",
    "![問題C21](c21.png \"問題C21\")"
   ]
  },
  {
   "cell_type": "markdown",
   "metadata": {},
   "source": [
    "## p.29 C22\n",
    "\n",
    "明らか。"
   ]
  },
  {
   "cell_type": "markdown",
   "metadata": {},
   "source": [
    "## p.29 C23\n",
    "\n",
    "そのような2部グラフが存在するならば、 $m + n = 17$, $m \\times n = 73$ となるような整数解が存在しなければならない。 $x^2 - 17 x + 73 = 0$ には実数解すら存在しないから、そのような2部グラフは存在しない。"
   ]
  },
  {
   "cell_type": "code",
   "execution_count": 1,
   "metadata": {
    "collapsed": false
   },
   "outputs": [
    {
     "data": {
      "text/plain": [
       "-3"
      ]
     },
     "execution_count": 1,
     "metadata": {},
     "output_type": "execute_result"
    }
   ],
   "source": [
    "17**2 - 4*73"
   ]
  },
  {
   "cell_type": "markdown",
   "metadata": {},
   "source": [
    "## p.29 C24\n",
    "\n",
    "2部グラフの辺の両端点の一方は、$X$ に、他方は、 $Y$ に属しているとする。 $X$ の点の次数の和と $Y$ の点の次数の和は明らかに等しい。したがって、 $x$ は $d$ の倍数でなければならない。"
   ]
  },
  {
   "cell_type": "markdown",
   "metadata": {},
   "source": [
    "## p.29 C25\n",
    "\n",
    "![問題C25](c25.png \"問題C25\")"
   ]
  },
  {
   "cell_type": "markdown",
   "metadata": {},
   "source": [
    "## p.29 C26"
   ]
  },
  {
   "cell_type": "code",
   "execution_count": 31,
   "metadata": {
    "collapsed": false
   },
   "outputs": [],
   "source": [
    "def is_graphical(deg_list):\n",
    "    if deg_list == []:\n",
    "        return True\n",
    "    sorted_deg_list = sorted(deg_list, reverse = True)\n",
    "    for d in sorted_deg_list:\n",
    "        if d < 0:\n",
    "            return False\n",
    "    if sorted_deg_list[0] == 0:\n",
    "        return True\n",
    "    if sorted_deg_list[0] > len(sorted_deg_list) - 1:\n",
    "        return False\n",
    "    return is_graphical([d-1 if i <= sorted_deg_list[0]-1 else d for i, d in enumerate(sorted_deg_list[1:])])"
   ]
  },
  {
   "cell_type": "code",
   "execution_count": 34,
   "metadata": {
    "collapsed": false
   },
   "outputs": [
    {
     "name": "stdout",
     "output_type": "stream",
     "text": [
      "True\n",
      "True\n",
      "True\n",
      "True\n",
      "True\n",
      "True\n"
     ]
    }
   ],
   "source": [
    "deg_list_list = [0 for i in range(6)]\n",
    "deg_list_list[0] = [6,6,4,4,4,4,4,4,2,2,2]\n",
    "deg_list_list[1] = [4,4,4,4,4,3,3,2,2]\n",
    "deg_list_list[2] = [5,5,5,5,5,5,4,4,4]\n",
    "deg_list_list[3] = [5,4,4,3,3,2,2,2,1]\n",
    "deg_list_list[4] = [5,5,4,3,3,3,3,3,3]\n",
    "deg_list_list[5] = [5,5,5,5,4,4,4,3,3]\n",
    "print(is_graphical(deg_list_list[0]))\n",
    "print(is_graphical(deg_list_list[1]))\n",
    "print(is_graphical(deg_list_list[2]))\n",
    "print(is_graphical(deg_list_list[3]))\n",
    "print(is_graphical(deg_list_list[4]))\n",
    "print(is_graphical(deg_list_list[5]))"
   ]
  },
  {
   "cell_type": "code",
   "execution_count": 38,
   "metadata": {
    "collapsed": false
   },
   "outputs": [
    {
     "name": "stdout",
     "output_type": "stream",
     "text": [
      "42\n",
      "30\n",
      "42\n",
      "26\n",
      "32\n",
      "38\n"
     ]
    }
   ],
   "source": [
    "for i, deg_list in enumerate(deg_list_list):\n",
    "    print(sum(deg_list))"
   ]
  },
  {
   "cell_type": "code",
   "execution_count": 36,
   "metadata": {
    "collapsed": false
   },
   "outputs": [
    {
     "name": "stdout",
     "output_type": "stream",
     "text": [
      "11\n",
      "9\n",
      "9\n",
      "9\n",
      "9\n",
      "9\n"
     ]
    }
   ],
   "source": [
    "for deg_list in deg_list_list:\n",
    "    print(len(deg_list))"
   ]
  },
  {
   "cell_type": "markdown",
   "metadata": {},
   "source": [
    "1. 次数列が $(6,6,4,4,4,4,4,4,2,2,2)$ であるような2部グラフが存在すると仮定する。2部グラフの辺の両端点の一方は、$X$ に、他方は、 $Y$ に属しているとする。 $X$ の点の次数の和と $Y$ の点の次数の和は明らかに等しい。すべての次数を足すと $42$ である。よって、 $X$ の点の次数の和は $21$,  $Y$ の点の次数の和は $21$ でなければならないが、次数列を構成している次数はすべて偶数であるからこれは不可能である。\n",
    "\n",
    "2. ![問題C26b](c26_b.png \"問題C26b\")\n"
   ]
  }
 ],
 "metadata": {
  "anaconda-cloud": {
   "environment": null,
   "summary": "Chapter C",
   "url": "https://anaconda.org/for_2ch/chapter-c"
  },
  "kernelspec": {
   "display_name": "Python [Root]",
   "language": "python",
   "name": "Python [Root]"
  },
  "language_info": {
   "codemirror_mode": {
    "name": "ipython",
    "version": 3
   },
   "file_extension": ".py",
   "mimetype": "text/x-python",
   "name": "python",
   "nbconvert_exporter": "python",
   "pygments_lexer": "ipython3",
   "version": "3.5.1"
  }
 },
 "nbformat": 4,
 "nbformat_minor": 0
}
