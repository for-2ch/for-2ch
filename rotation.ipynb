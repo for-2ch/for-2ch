{
 "cells": [
  {
   "cell_type": "code",
   "execution_count": 1,
   "metadata": {
    "collapsed": true
   },
   "outputs": [],
   "source": [
    "import math\n",
    "\n",
    "def det2(x, y):\n",
    "    return x[0]*y[1] - x[1]*y[0]\n",
    "\n",
    "def det3(x, y, z):\n",
    "    return x[0]*det2([y[1], y[2]], [z[1], z[2]]) - x[1]*det2([y[0], y[2]], [z[0], z[2]]) + x[2]*det2([y[0], y[1]], [z[0], z[1]])\n",
    "\n",
    "def solve2(a, b, c):\n",
    "    d = det2([a[0], b[0]], [a[1], b[1]])\n",
    "    d1 = det2([c[0], c[1]], [a[1], b[1]])\n",
    "    d2 = det2([a[0], b[0]], [c[0], c[1]])\n",
    "    return [d1/d, d2/d]\n",
    "\n",
    "def dot3(a, b):\n",
    "    return a[0]*b[0] + a[1]*b[1] + a[2]*b[2]\n",
    "\n",
    "def subtract(a, b):\n",
    "    return [a[0]-b[0], a[1]-b[1], a[2]-b[2]]\n",
    "\n",
    "def func(a, b):\n",
    "    na = math.sqrt(dot3(a, a))\n",
    "    nb = math.sqrt(dot3(b, b))\n",
    "    a = [a[0]/na, a[1]/na, a[2]/na]\n",
    "    b = [b[0]/nb, b[1]/nb, b[2]/nb]\n",
    "    if abs(det2([a[0], a[1]], [b[0], b[1]+1])) > 10**(-6):\n",
    "        d = [solve2([a[0], a[1]], [b[0], b[1]+1], [-(a[2]+1), -b[2]]), 1.0]\n",
    "    if abs(det2([a[1], a[2]], [b[1], b[2]])) > 10**(-6):\n",
    "        d2 = solve2([a[1], a[2]+1], [b[1]+1, b[2]], [-a[0], -b[0]])\n",
    "        d = [1.0, d2[0], d2[1]]\n",
    "    if abs(det2([a[2], a[0]], [b[2], b[0]])) > 10**(-6):\n",
    "        d2 = solve2([a[2]+1, a[0]], [b[2], b[0]], [-a[1], -(b[1]+1)])\n",
    "        d = [d2[1], 1.0, d2[0]]\n",
    "    nd = math.sqrt(dot3(d, d))\n",
    "    d = [d[0]/nd, d[1]/nd, d[2]/nd]\n",
    "    dot = dot3(d, a)\n",
    "    d = [dot*d[0], dot*d[1], dot*d[2]]\n",
    "    temp1 = math.sqrt(dot3(subtract(a, d), subtract(a, d)))*math.sqrt(dot3(subtract([0,0,-1], d), subtract([0,0,-1], d)))\n",
    "    temp2 = dot3(subtract(a, d), subtract([0, 0, -1], d))\n",
    "    if det3(subtract(a, d), subtract([0, 0, -1], d), d) > 0.0:\n",
    "        sign = 1\n",
    "    else:\n",
    "        sign = -1\n",
    "    return sign*math.acos(temp2/temp1) "
   ]
  },
  {
   "cell_type": "code",
   "execution_count": 2,
   "metadata": {},
   "outputs": [
    {
     "data": {
      "text/plain": [
       "-3.141592653589793"
      ]
     },
     "execution_count": 2,
     "metadata": {},
     "output_type": "execute_result"
    }
   ],
   "source": [
    "a = [0,0,1]\n",
    "b = [1/math.sqrt(2), 1/math.sqrt(2), 0]\n",
    "func(a, b)"
   ]
  },
  {
   "cell_type": "code",
   "execution_count": 3,
   "metadata": {},
   "outputs": [
    {
     "data": {
      "text/plain": [
       "-3.141592653589793"
      ]
     },
     "execution_count": 3,
     "metadata": {},
     "output_type": "execute_result"
    }
   ],
   "source": [
    "a = [0,0,1]\n",
    "b = [1,0,0]\n",
    "func(a, b)"
   ]
  },
  {
   "cell_type": "code",
   "execution_count": null,
   "metadata": {
    "collapsed": true
   },
   "outputs": [],
   "source": []
  }
 ],
 "metadata": {
  "kernelspec": {
   "display_name": "Python 3",
   "language": "python",
   "name": "python3"
  },
  "language_info": {
   "codemirror_mode": {
    "name": "ipython",
    "version": 3
   },
   "file_extension": ".py",
   "mimetype": "text/x-python",
   "name": "python",
   "nbconvert_exporter": "python",
   "pygments_lexer": "ipython3",
   "version": "3.6.3"
  }
 },
 "nbformat": 4,
 "nbformat_minor": 2
}
