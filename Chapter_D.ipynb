{
 "cells": [
  {
   "cell_type": "markdown",
   "metadata": {},
   "source": [
    "## p.31 D1\n",
    "\n",
    "![問題D1](d01.png \"問題D1\")"
   ]
  },
  {
   "cell_type": "markdown",
   "metadata": {},
   "source": [
    "## p.31 D2\n",
    "\n",
    "$\\#E = \\#V - 1$"
   ]
  },
  {
   "cell_type": "markdown",
   "metadata": {},
   "source": [
    "## p.31 D3\n",
    "\n",
    "\\begin{eqnarray}\n",
    "5 &=& 1 + 4 = 2 + 3 \\\\\n",
    "  &=& 1 + 1 + 3 = 1 + 2 + 2 \\\\\n",
    "  &=& 1 + 1 + 1 + 2 \\\\\n",
    "  &=& 1 + 1 + 1 + 1 + 1\n",
    "\\end{eqnarray}\n",
    "\n",
    "![問題D3](d03.png \"問題D3\")"
   ]
  },
  {
   "cell_type": "markdown",
   "metadata": {},
   "source": [
    "## p.31 D4\n",
    "\n",
    "$e = v - k$"
   ]
  },
  {
   "cell_type": "markdown",
   "metadata": {},
   "source": [
    "## p.32 D5\n",
    "\n",
    "自明。"
   ]
  },
  {
   "cell_type": "markdown",
   "metadata": {},
   "source": [
    "## p.32 D6\n",
    "\n",
    "最長のシンプルなパス $(v_1, \\cdots, v_n)$ を考える。 $n \\geq 2$ である。もしも、 $\\deg(v_n) \\ge 2$ ならば、 $v_n$ と $v_{n+1}$ の間に辺が存在するような点 $v_{n+1} \\neq v_{n-1}$ が存在する。 $(v_1, \\cdots, v_n)$ は最長のシンプルなパスであるから、 $(v_1, \\cdots, v_n, v_{n+1})$ はシンプルなパスではない。よって、 $v_{n+1} = v_i$ となるような $i \\in \\{1, \\cdots, n-2\\}$ が存在する。 $(v_i, \\cdots, v_{n+1})$ はサイクルであるが、木にはサイクルが存在しないから、これは矛盾である。したがって、 $\\deg(v_n) \\leq 1$ でなければならない。 $n \\geq 2$ だから  $\\deg(v_n) = 0$ ではない。よって、 $\\deg(v_n) = 1$ である。同様にして、 $\\deg(v_1) = 1$ であることも分かる。"
   ]
  },
  {
   "cell_type": "markdown",
   "metadata": {},
   "source": [
    "## p.32 D7\n",
    "\n",
    "$v - e$ は各剪定プロセスにおいて不変である。"
   ]
  },
  {
   "cell_type": "markdown",
   "metadata": {},
   "source": [
    "## p.32 D8\n",
    "\n",
    "剪定プロセスの最後には、 $v - e = 1 - 0 = 1$ になる。D7により、剪定をする前の $v$, $e$ に対しても $v - e = 1$ が成り立つ。"
   ]
  },
  {
   "cell_type": "markdown",
   "metadata": {},
   "source": [
    "## p.32 D9\n",
    "\n",
    "自明。"
   ]
  },
  {
   "cell_type": "markdown",
   "metadata": {},
   "source": [
    "## p.32 D10\n",
    "\n",
    "$k = v - e = 20 - 15 = 5$ であるから、5つの成分からなる。"
   ]
  },
  {
   "cell_type": "markdown",
   "metadata": {},
   "source": [
    "## p.32 D11\n",
    "\n",
    "- サイクルが存在しないとすると、グラフは森ということになり、 $v - e = k \\geq 1$ でなければならないことになるが、これは矛盾である。\n",
    "- かならずしもサイクルグラフになるとは限らない。\n",
    "![問題D11](d11.png \"問題D11\")"
   ]
  },
  {
   "cell_type": "markdown",
   "metadata": {},
   "source": [
    "## p.33 D12\n",
    "\n",
    "$T$ は連結だから、 $A$ から $B$ へのパスが存在する。シンプルなパスが存在することは自明。"
   ]
  },
  {
   "cell_type": "markdown",
   "metadata": {},
   "source": [
    "## p.33 D13\n",
    "\n",
    "$A = B$ のときには自明であるから、 $A \\neq B$ と仮定する。\n",
    "$A$ から $B$ へのシンプルなパスが2つ存在すると仮定し、それぞれ、 $(v_1, \\cdots, v_m)$, $(u_1, \\cdots, u_n)$ とする。 $m, n \\geq 2$ である。 $m \\in \\{i \\mid v_i \\in \\{u_2, \\cdots, u_n\\}\\} \\neq \\emptyset$ である。 $j := \\min \\{i \\mid v_i \\in \\{u_2, \\cdots, u_n\\}\\}$, $v_j = u_k$ とする。すると、 $(v_1, \\cdots, v_j, u_{k-1}, \\cdots, u_1)$ は以下に示すようにサイクルである。もし、サイクルでないと仮定すると、 $v_{i_1} = u_{i_2}$ となるような $2 \\leq i_1 \\leq j$, $1 \\leq i_2 \\leq k-1$ が存在する。まず、 $i_1 = j$ ではない。もしそうだとすると、 $v_{i_1} = v_j = u_k = u_{i_2}$ となり矛盾が起きるからである。次に、 $i_2 = 1$ ではない。もしそうだとすると、 $u_{i_2} = u_1 = v_1 = v_{i_1}$ となり矛盾が起きるからである。よって、 $2 \\leq i_1 \\leq j-1$, $2 \\leq i_2 \\leq k-1$ である。 $i_1 \\in \\{i \\mid v_i \\in \\{u_2, \\cdots, u_n\\}\\}$ であるが、これは $j$ の最小性に反し、矛盾である。"
   ]
  },
  {
   "cell_type": "markdown",
   "metadata": {},
   "source": [
    "## p.33 D14\n",
    "\n",
    "![問題D14](d14_1.png \"問題D14\")\n",
    "![問題D14](d14_2.png \"問題D14\")\n",
    "\n",
    "木が根をもつ木であるための必要十分条件は、1つの点の入次数が $0$ でその他の点の入次数が $1$ であることである。"
   ]
  },
  {
   "cell_type": "markdown",
   "metadata": {},
   "source": [
    "## p.33 D15\n",
    "\n",
    "1. $R$ からその点への道が存在するからその点の入次数は $1$ 以上である。\n",
    "2. $T$ には $\\#V - 1$ 個の辺が存在する。入次数の和は辺の数に等しいから、 $\\#V - 1$ である。根以外の点は $\\#V - 1$ 個あり、それらの点における入次数は1.より $1$ 以上である。もしも $1$ より大きい入次数を持つ点が1つでも存在すると、入次数の和が $\\#V - 1$ を超えてしまう。そのため、根以外の点における入次数はちょうど $1$ でなければならない。こうして根以外の点の入次数の和は $\\#V - 1$ になり、入次数の和は $\\#V - 1$ だから、根の入次数は $0$ でなければならない。"
   ]
  },
  {
   "cell_type": "markdown",
   "metadata": {},
   "source": [
    "## p.34 D16\n",
    "\n",
    "$R$ から $V$ への（単純な）パスを $(V_1, \\cdots V_n)$ とする。 $V_i$ と $V_{i+1}$ を結ぶ辺の向きが $V_{i+1}$ から $V_i$ に向かう向きであるような $i \\in \\{1, \\cdots, n\\}$ が存在するとし、 $k := \\min\\{i \\mid V_i$ と $V_{i+1}$ を結ぶ辺の向きが $V_{i+1}$ から $V_i$ に向かう向きである。 $\\}$ とする。 $R = V_1$ の入次数は $0$ だから $k \\geq 2$ である。 $V_{k-1}$ と $V_k$ を結ぶ辺の向きは、 $k$ の最小性から、 $V_{k-1}$ から $V_k$ へ向かう向きであり、 $k$ についての仮定より $V_{k+1}$ から $V_k$ へ向かう辺が存在するから、 $V_k$ の入次数は $2$ 以上となってしまい、矛盾が起こる。"
   ]
  },
  {
   "cell_type": "markdown",
   "metadata": {},
   "source": [
    "## p.34 D17\n",
    "\n",
    "![問題D17](d17.png \"問題D17\")"
   ]
  },
  {
   "cell_type": "markdown",
   "metadata": {},
   "source": [
    "## p.35 D18\n",
    "\n",
    "![問題D18](d18.png \"問題D18\")"
   ]
  },
  {
   "cell_type": "markdown",
   "metadata": {},
   "source": [
    "## p.35 D19"
   ]
  },
  {
   "cell_type": "markdown",
   "metadata": {},
   "source": [
    "## p.36 D20\n",
    "\n",
    "1. 次数が $1$ の点は、 $C, D, E$ である。この中で、一番「小さな」点は $C$ である。よって、辺 $CD$ が剪定される。\n",
    "2. 次数が $1$ の点は、 $B, D, E$ である。この中で、一番「小さな」点は $B$ である。よって、辺 $BA$ が剪定される。\n",
    "3. 次数が $1$ の点は、 $D, E$ である。この中で、一番「小さな」点は $D$ である。よって、辺 $DA$ が剪定される。\n",
    "4. 次数が $1$ の点は、 $A, E$ である。この中で、一番「小さな」点は $A$ である。よって、辺 $AE$ が剪定される。"
   ]
  },
  {
   "cell_type": "markdown",
   "metadata": {},
   "source": [
    "## p.36 D21\n",
    "\n",
    "$AEDBBCCE$"
   ]
  },
  {
   "cell_type": "markdown",
   "metadata": {},
   "source": [
    "## p.36 D22\n",
    "\n",
    "- 長いコードワード： $AEBCDCCE$\n",
    "- 短いコードワード： $ECC$"
   ]
  },
  {
   "cell_type": "markdown",
   "metadata": {},
   "source": [
    "## p.36 D23\n",
    "\n",
    "- ある点が長いコードワードの中に現れる回数は、その点の次数に等しい。\n",
    "- ある点が短いコードワードの中に現れる回数は、その点の次数 $- 1$ に等しい。"
   ]
  },
  {
   "cell_type": "markdown",
   "metadata": {},
   "source": [
    "## p.36 D24\n",
    "\n",
    "$\\deg(B) = 3, \\deg(D) = 2$ であり、長いコードワードの中に現れる点の数の合計は $8$ であるから、 $\\deg(A) = \\deg(C) = \\deg(E) = 1$ でなければならない。よって、求める木は以下である。\n",
    "\n",
    "![問題D24](d24.png \"問題D24\")"
   ]
  },
  {
   "cell_type": "markdown",
   "metadata": {},
   "source": [
    "下のプログラムは、上のグラフを描くプログラム。"
   ]
  },
  {
   "cell_type": "code",
   "execution_count": 1,
   "metadata": {
    "collapsed": false
   },
   "outputs": [
    {
     "data": {
      "image/png": "[encoded data removed]",
      "text/plain": [
       "<matplotlib.figure.Figure at 0x1fbc6c887b8>"
      ]
     },
     "metadata": {},
     "output_type": "display_data"
    }
   ],
   "source": [
    "%matplotlib inline\n",
    "import networkx as nx\n",
    "import numpy as np\n",
    "import matplotlib.pyplot as plt\n",
    "import itertools\n",
    "\n",
    "G=nx.Graph()\n",
    "\n",
    "nodes_list = ['A', 'B', 'C', 'D', 'E']\n",
    "for node in nodes_list:\n",
    "    G.add_node(node)\n",
    "    \n",
    "edges_list = [{'A', 'B'}, {'B', 'C'}, {'B', 'D'}, {'D', 'E'}]\n",
    "\n",
    "for v1, v2 in itertools.combinations(nodes_list, 2):\n",
    "    G.add_edge(v1, v2)\n",
    "\n",
    "pos = {}\n",
    "for i in range(len(nodes_list)):\n",
    "    pos[nodes_list[i]] = (np.cos((2*np.pi/5)*(3-i) - np.pi/2), np.sin((2*np.pi/5)*(3-i) - np.pi/2))\n",
    "\n",
    "edges = G.edges()\n",
    "weights = [6 if {v1, v2} in edges_list else 1 for v1, v2 in edges]\n",
    "nx.draw(G, pos, edges = edges, edge_color = 'k', width = weights, node_color = 'w', with_labels=True)\n",
    "\n",
    "plt.gca().set_aspect('equal')\n",
    "plt.savefig(\"d24.png\")\n",
    "plt.show()"
   ]
  },
  {
   "cell_type": "markdown",
   "metadata": {},
   "source": [
    "上のプログラムを作るのに参考にしたコードが下のコード。"
   ]
  },
  {
   "cell_type": "code",
   "execution_count": 26,
   "metadata": {
    "collapsed": false
   },
   "outputs": [
    {
     "data": {
      "image/png": "[encoded data removed]",
      "text/plain": [
       "<matplotlib.figure.Figure at 0x207a32e7f60>"
      ]
     },
     "metadata": {},
     "output_type": "display_data"
    }
   ],
   "source": [
    "G = nx.Graph()\n",
    "G.add_edge(1,2,color='r',weight=2)\n",
    "G.add_edge(2,3,color='b',weight=4)\n",
    "G.add_edge(3,4,color='g',weight=6)\n",
    "\n",
    "pos = nx.circular_layout(G)\n",
    "\n",
    "edges = G.edges()\n",
    "colors = [G[u][v]['color'] for u,v in edges]\n",
    "weights = [G[u][v]['weight'] for u,v in edges]\n",
    "\n",
    "nx.draw(G, pos, edges=edges, edge_color=colors, width=weights)"
   ]
  }
 ],
 "metadata": {
  "anaconda-cloud": {},
  "kernelspec": {
   "display_name": "Python [Root]",
   "language": "python",
   "name": "Python [Root]"
  },
  "language_info": {
   "codemirror_mode": {
    "name": "ipython",
    "version": 3
   },
   "file_extension": ".py",
   "mimetype": "text/x-python",
   "name": "python",
   "nbconvert_exporter": "python",
   "pygments_lexer": "ipython3",
   "version": "3.5.1"
  }
 },
 "nbformat": 4,
 "nbformat_minor": 0
}
