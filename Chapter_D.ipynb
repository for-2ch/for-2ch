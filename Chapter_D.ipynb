{
 "cells": [
  {
   "cell_type": "markdown",
   "metadata": {},
   "source": [
    "## p.31 D1\n",
    "\n",
    "![問題d1](d01.png \"問題D1\")"
   ]
  },
  {
   "cell_type": "markdown",
   "metadata": {},
   "source": [
    "## p.31 D2\n",
    "\n",
    "$\\#E = \\#V - 1$"
   ]
  },
  {
   "cell_type": "markdown",
   "metadata": {},
   "source": [
    "## p.31 D3\n",
    "\n",
    "\\begin{eqnarray}\n",
    "5 &=& 1 + 4 = 2 + 3 \\\\\n",
    "  &=& 1 + 1 + 3 = 1 + 2 + 2 \\\\\n",
    "  &=& 1 + 1 + 1 + 2 \\\\\n",
    "  &=& 1 + 1 + 1 + 1 + 1\n",
    "\\end{eqnarray}"
   ]
  }
 ],
 "metadata": {
  "kernelspec": {
   "display_name": "Python [Root]",
   "language": "python",
   "name": "Python [Root]"
  },
  "language_info": {
   "codemirror_mode": {
    "name": "ipython",
    "version": 3
   },
   "file_extension": ".py",
   "mimetype": "text/x-python",
   "name": "python",
   "nbconvert_exporter": "python",
   "pygments_lexer": "ipython3",
   "version": "3.5.1"
  }
 },
 "nbformat": 4,
 "nbformat_minor": 0
}
