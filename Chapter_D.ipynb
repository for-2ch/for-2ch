{
 "cells": [
  {
   "cell_type": "markdown",
   "metadata": {},
   "source": [
    "## p.31 D1\n",
    "\n",
    "![問題D1](d01.png \"問題D1\")"
   ]
  },
  {
   "cell_type": "markdown",
   "metadata": {},
   "source": [
    "## p.31 D2\n",
    "\n",
    "$\\#E = \\#V - 1$"
   ]
  },
  {
   "cell_type": "markdown",
   "metadata": {},
   "source": [
    "## p.31 D3\n",
    "\n",
    "\\begin{eqnarray}\n",
    "5 &=& 1 + 4 = 2 + 3 \\\\\n",
    "  &=& 1 + 1 + 3 = 1 + 2 + 2 \\\\\n",
    "  &=& 1 + 1 + 1 + 2 \\\\\n",
    "  &=& 1 + 1 + 1 + 1 + 1\n",
    "\\end{eqnarray}\n",
    "\n",
    "![問題D3](d03.png \"問題D3\")"
   ]
  },
  {
   "cell_type": "markdown",
   "metadata": {},
   "source": [
    "## p.31 D4\n",
    "\n",
    "$e = v - k$"
   ]
  },
  {
   "cell_type": "markdown",
   "metadata": {},
   "source": [
    "## p.32 D5\n",
    "\n",
    "自明。"
   ]
  },
  {
   "cell_type": "markdown",
   "metadata": {},
   "source": [
    "## p.32 D6\n",
    "\n",
    "最長のシンプルなパス $(v_1, \\cdots, v_n)$ を考える。 $n \\geq 2$ である。もしも、 $\\deg(v_n) \\ge 2$ ならば、 $v_n$ と $v_{n+1}$ の間に辺が存在するような点 $v_{n+1} \\neq v_{n-1}$ が存在する。 $(v_1, \\cdots, v_n)$ は最長のシンプルなパスであるから、 $(v_1, \\cdots, v_n, v_{n+1})$ はシンプルなパスではない。よって、 $v_{n+1} = v_i$ となるような $i \\in \\{1, \\cdots, n-2\\}$ が存在する。 $(v_i, \\cdots, v_{n+1})$ はサイクルであるが、木にはサイクルが存在しないから、これは矛盾である。したがって、 $\\deg(v_n) \\leq 1$ でなければならない。 $n \\geq 2$ だから  $\\deg(v_n) = 0$ ではない。よって、 $\\deg(v_n) = 1$ である。同様にして、 $\\deg(v_1) = 1$ であることも分かる。"
   ]
  },
  {
   "cell_type": "markdown",
   "metadata": {},
   "source": [
    "## p.32 D7\n",
    "\n",
    "$v - e$ は各剪定プロセスにおいて不変である。"
   ]
  },
  {
   "cell_type": "markdown",
   "metadata": {},
   "source": [
    "## p.32 D8\n",
    "\n",
    "剪定プロセスの最後には、 $v - e = 1 - 0 = 1$ になる。D7により、剪定をする前の $v$, $e$ に対しても $v - e = 1$ が成り立つ。"
   ]
  },
  {
   "cell_type": "markdown",
   "metadata": {},
   "source": [
    "## p.32 D9\n",
    "\n",
    "自明。"
   ]
  },
  {
   "cell_type": "markdown",
   "metadata": {},
   "source": [
    "## p.32 D10\n",
    "\n",
    "$k = v - e = 20 - 15 = 5$ であるから、5つの成分からなる。"
   ]
  },
  {
   "cell_type": "markdown",
   "metadata": {},
   "source": [
    "## p.32 D11\n",
    "\n",
    "- サイクルが存在しないとすると、グラフは森ということになり、 $v - e = k \\geq 1$ でなければならないことになるが、これは矛盾である。\n",
    "- かならずしもサイクルグラフになるとは限らない。\n",
    "![問題D11](d11.png \"問題D11\")"
   ]
  },
  {
   "cell_type": "markdown",
   "metadata": {},
   "source": [
    "## p.33 D12\n",
    "\n",
    "$T$ は連結だから、 $A$ から $B$ へのパスが存在する。シンプルなパスが存在することは自明。"
   ]
  },
  {
   "cell_type": "markdown",
   "metadata": {},
   "source": [
    "## p.33 D13\n",
    "\n",
    "$A = B$ のときには自明であるから、 $A \\neq B$ と仮定する。\n",
    "$A$ から $B$ へのシンプルなパスが2つ存在すると仮定し、それぞれ、 $(v_1, \\cdots, v_m)$, $(u_1, \\cdots, u_n)$ とする。 $m, n \\geq 2$ である。 $m \\in \\{i \\mid v_i \\in \\{u_2, \\cdots, u_n\\}\\} \\neq \\emptyset$ である。 $j := \\min \\{i \\mid v_i \\in \\{u_2, \\cdots, u_n\\}\\}$, $v_j = u_k$ とする。すると、 $(v_1, \\cdots, v_j, u_{k-1}, \\cdots, u_1)$ は以下に示すようにサイクルである。もし、サイクルでないと仮定すると、 $v_{i_1} = u_{i_2}$ となるような $2 \\leq i_1 \\leq j$, $1 \\leq i_2 \\leq k-1$ が存在する。まず、 $i_1 = j$ ではない。もしそうだとすると、 $v_{i_1} = v_j = u_k = u_{i_2}$ となり矛盾が起きるからである。次に、 $i_2 = 1$ ではない。もしそうだとすると、 $u_{i_2} = u_1 = v_1 = v_{i_1}$ となり矛盾が起きるからである。よって、 $2 \\leq i_1 \\leq j-1$, $2 \\leq i_2 \\leq k-1$ である。 $i_1 \\in \\{i \\mid v_i \\in \\{u_2, \\cdots, u_n\\}\\}$ であるが、これは $j$ の最小性に反し、矛盾である。"
   ]
  }
 ],
 "metadata": {
  "kernelspec": {
   "display_name": "Python [Root]",
   "language": "python",
   "name": "Python [Root]"
  },
  "language_info": {
   "codemirror_mode": {
    "name": "ipython",
    "version": 3
   },
   "file_extension": ".py",
   "mimetype": "text/x-python",
   "name": "python",
   "nbconvert_exporter": "python",
   "pygments_lexer": "ipython3",
   "version": "3.5.1"
  }
 },
 "nbformat": 4,
 "nbformat_minor": 0
}
